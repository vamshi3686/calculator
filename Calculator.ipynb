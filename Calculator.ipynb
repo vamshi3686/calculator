{
 "cells": [
  {
   "cell_type": "code",
   "execution_count": null,
   "id": "45e950c2-0441-447a-975f-d292f4dba725",
   "metadata": {},
   "outputs": [
    {
     "name": "stdin",
     "output_type": "stream",
     "text": [
      "Enter First number: 6\n"
     ]
    },
    {
     "name": "stdout",
     "output_type": "stream",
     "text": [
      "+\n",
      "-\n",
      "*\n",
      "/\n"
     ]
    },
    {
     "name": "stdin",
     "output_type": "stream",
     "text": [
      "select any operation: /\n",
      "Enter Second number: 2\n"
     ]
    },
    {
     "name": "stdout",
     "output_type": "stream",
     "text": [
      "6 / 2 = 3.0\n"
     ]
    },
    {
     "name": "stdin",
     "output_type": "stream",
     "text": [
      "Press 'x' to Exit, Press 'y' to perform other operations with 3.0 or Press 's' to restart the calculator: y\n"
     ]
    },
    {
     "name": "stdout",
     "output_type": "stream",
     "text": [
      "+\n",
      "-\n",
      "*\n",
      "/\n"
     ]
    },
    {
     "name": "stdin",
     "output_type": "stream",
     "text": [
      "select any operation: +\n",
      "Enter Second number: 99\n"
     ]
    },
    {
     "name": "stdout",
     "output_type": "stream",
     "text": [
      "3.0 + 99 = 102.0\n"
     ]
    }
   ],
   "source": [
    "def calculator():\n",
    "    def add(n1,n2):\n",
    "        return n1+n2\n",
    "    def sub(n1,n2):\n",
    "        return n1-n2\n",
    "    def multiply(n1,n2):\n",
    "        return n1*n2\n",
    "    def division(n1,n2):\n",
    "        return n1/n2\n",
    "    global n1\n",
    "    n1=int(input(\"Enter First number:\"))\n",
    "    def continue_cal(n1):\n",
    "        operations=[\"+\",\"-\",\"*\",\"/\"]\n",
    "        for i in operations:\n",
    "            print(i)\n",
    "        sele_operation=input(\"select any operation:\")\n",
    "        n2=int(input(\"Enter Second number:\"))\n",
    "        if sele_operation==\"+\":\n",
    "            result=add(n1,n2)\n",
    "        elif sele_operation==\"-\":\n",
    "            result=sub(n1,n2)\n",
    "        elif sele_operation==\"*\":\n",
    "            result=multiply(n1,n2)\n",
    "        elif sele_operation==\"/\":\n",
    "            result=division(n1,n2)\n",
    "        print(f\"{n1} {sele_operation} {n2} = {result}\")\n",
    "        after=input(f\"Press 'x' to Exit, Press 'y' to perform other operations with {result} or Press 's' to restart the calculator:\").lower()\n",
    "        if after==\"x\":\n",
    "            print(\"Thank You For Using\")\n",
    "        elif after==\"y\":\n",
    "            n1=result\n",
    "            continue_cal(n1)\n",
    "        elif after=='s':\n",
    "            calculator()\n",
    "    continue_cal(n1)    \n",
    "calculator()"
   ]
  },
  {
   "cell_type": "code",
   "execution_count": null,
   "id": "947e2cd3-4014-4d3b-a9c0-18e38e820e9f",
   "metadata": {},
   "outputs": [],
   "source": []
  }
 ],
 "metadata": {
  "kernelspec": {
   "display_name": "Python 3 (ipykernel)",
   "language": "python",
   "name": "python3"
  },
  "language_info": {
   "codemirror_mode": {
    "name": "ipython",
    "version": 3
   },
   "file_extension": ".py",
   "mimetype": "text/x-python",
   "name": "python",
   "nbconvert_exporter": "python",
   "pygments_lexer": "ipython3",
   "version": "3.12.7"
  }
 },
 "nbformat": 4,
 "nbformat_minor": 5
}
